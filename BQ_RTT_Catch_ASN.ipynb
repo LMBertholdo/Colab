{
  "nbformat": 4,
  "nbformat_minor": 0,
  "metadata": {
    "colab": {
      "name": "BQ_RTT_Catch_ASN.ipynb",
      "version": "0.3.2",
      "provenance": [],
      "collapsed_sections": [],
      "include_colab_link": true
    },
    "kernelspec": {
      "name": "python3",
      "display_name": "Python 3"
    }
  },
  "cells": [
    {
      "cell_type": "markdown",
      "metadata": {
        "id": "view-in-github",
        "colab_type": "text"
      },
      "source": [
        "<a href=\"https://colab.research.google.com/github/LMBertholdo/Colab/blob/master/BQ_RTT_Catch_ASN.ipynb\" target=\"_parent\"><img src=\"https://colab.research.google.com/assets/colab-badge.svg\" alt=\"Open In Colab\"/></a>"
      ]
    },
    {
      "cell_type": "markdown",
      "metadata": {
        "id": "5GVGMwmyZaAw",
        "colab_type": "text"
      },
      "source": [
        "# Measuring Catchment-RTT by ASN variation by Day in Brazil Node\n",
        "\n"
      ]
    },
    {
      "cell_type": "markdown",
      "metadata": {
        "id": "LXL7cqN_zy26",
        "colab_type": "text"
      },
      "source": [
        "### Starting Google BigQuery connection on Collab\n"
      ]
    },
    {
      "cell_type": "markdown",
      "metadata": {
        "id": "8Jv8BBxw0PvM",
        "colab_type": "text"
      },
      "source": [
        ""
      ]
    },
    {
      "cell_type": "code",
      "metadata": {
        "id": "sfGUsSl7IpEU",
        "colab_type": "code",
        "colab": {}
      },
      "source": [
        "# User Authorization colab->BigQuery\n",
        "from google.colab import auth\n",
        "auth.authenticate_user()\n"
      ],
      "execution_count": 0,
      "outputs": []
    },
    {
      "cell_type": "code",
      "metadata": {
        "id": "wiiySkBLKykT",
        "colab_type": "code",
        "colab": {}
      },
      "source": [
        "#Acess Database on BQ\n",
        "from google.cloud import bigquery\n",
        "\n",
        "# https://cloud.google.com/resource-manager/docs/creating-managing-projects\n",
        "project_id = 'vp-measurements-testbed'\n",
        "client = bigquery.Client(project=project_id)\n",
        "\n",
        "#for dataset in client.list_datasets():\n",
        "#  print(dataset.dataset_id)"
      ],
      "execution_count": 0,
      "outputs": []
    },
    {
      "cell_type": "code",
      "metadata": {
        "id": "bhHtQQO-PibY",
        "colab_type": "code",
        "outputId": "3e4f4aa2-bf70-479a-ac30-3eaef51bb391",
        "colab": {
          "base_uri": "https://localhost:8080/",
          "height": 34
        }
      },
      "source": [
        "# Pandas: display dataframes as interactive tables\n",
        "#%load_ext google.colab.data_table\n",
        "#%unload_ext google.colab.data_table"
      ],
      "execution_count": 0,
      "outputs": [
        {
          "output_type": "stream",
          "text": [
            "The google.colab.data_table extension is not loaded.\n"
          ],
          "name": "stdout"
        }
      ]
    },
    {
      "cell_type": "markdown",
      "metadata": {
        "id": "xrQHTb-i0Kyq",
        "colab_type": "text"
      },
      "source": [
        "### Prepare Data: Brazil, ASN-list\n"
      ]
    },
    {
      "cell_type": "code",
      "metadata": {
        "id": "cFMOWk-xPjds",
        "colab_type": "code",
        "colab": {}
      },
      "source": [
        "%%bigquery --project vp-measurements-testbed df\n",
        "SELECT\n",
        "  FORMAT_TIMESTAMP('%Y-%m-%d', timestamp) AS t0_timestamp, \n",
        "  catchment \n",
        "#  rtt,\n",
        "#  MIN (rtt) as min_rtt,\n",
        "#  MAX (rtt) as max_rtt,\n",
        "#  AVG (rtt) as avg_rtt,\n",
        "#  ans,\n",
        "  COUNT(*) AS t0_qt_catchment\n",
        "FROM\n",
        "  `vp-measurements-testbed.datasetTestbed.measurements`\n",
        "WHERE\n",
        "  catchment IN ('jp-hnd-anycast01')\n",
        "GROUP BY\n",
        "  t0_timestamp,\n",
        "  catchment\n",
        "  t0_qt_catchment\n",
        "  rtt\n",
        "ORDER BY\n",
        "  t0_timestamp ASC\n",
        "LIMIT\n",
        " 100;\n"
      ],
      "execution_count": 0,
      "outputs": []
    },
    {
      "cell_type": "markdown",
      "metadata": {
        "id": "hsTrac9H0OK9",
        "colab_type": "text"
      },
      "source": [
        ""
      ]
    },
    {
      "cell_type": "code",
      "metadata": {
        "id": "QDWCLK0HMpvV",
        "colab_type": "code",
        "colab": {}
      },
      "source": [
        "%%bigquery --project vp-measurements-testbed df\n",
        "SELECT\n",
        "  timestamp as t0\n",
        "  FORMAT_TIMESTAMP('%Y%m%d', timestamp) AS t0_date,\n",
        "  FORMAT_TIMESTAMP('%H', timestamp) AS t0_hour,\n",
        "  FORMAT_TIMESTAMP('%H', timestamp) AS t0_min,\n",
        "  catchment,\n",
        "  COUNT(*) AS t0_qt\n",
        "FROM\n",
        "  `vp-measurements-testbed.datasetTestbed.measurements`\n",
        "WHERE\n",
        "  catchment IN ('jp-hnd-anycast01')\n",
        "GROUP BY\n",
        "  t0,\n",
        "  t0_date,\n",
        "  t0_hour,\n",
        "  t0_min,\n",
        "  catchment\n",
        "ORDER BY\n",
        " t0_date,t0_hour,t0_min ASC\n",
        "LIMIT 100"
      ],
      "execution_count": 0,
      "outputs": []
    },
    {
      "cell_type": "code",
      "metadata": {
        "id": "HosbY5qrXNck",
        "colab_type": "code",
        "colab": {}
      },
      "source": [
        "df"
      ],
      "execution_count": 0,
      "outputs": []
    },
    {
      "cell_type": "code",
      "metadata": {
        "id": "KD5puXy_fi9D",
        "colab_type": "code",
        "colab": {}
      },
      "source": [
        "import altair as alt\n",
        "alt.Chart(df).mark_line().encode(\n",
        "  x='t0_timestamp',\n",
        "  y='t0_qt',\n",
        "  color='catchment'\n",
        ").interactive(bind_y=True)"
      ],
      "execution_count": 0,
      "outputs": []
    }
  ]
}